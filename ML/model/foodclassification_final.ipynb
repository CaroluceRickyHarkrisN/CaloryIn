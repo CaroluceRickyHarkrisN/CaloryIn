{
 "cells": [
  {
   "cell_type": "markdown",
   "metadata": {
    "id": "RDsR1JD9vzs_"
   },
   "source": [
    "# Food Classification with TensorFlow Hub - TFLite"
   ]
  },
  {
   "cell_type": "markdown",
   "metadata": {
    "id": "SMB9roQMvztC"
   },
   "source": [
    "## Setup"
   ]
  },
  {
   "cell_type": "code",
   "execution_count": null,
   "metadata": {
    "scrolled": true
   },
   "outputs": [],
   "source": [
    "from tensorflow.python.client import device_lib\n",
    "def get_available_devices():\n",
    "    local_device_protos = device_lib.list_local_devices()\n",
    "    return [x.name for x in local_device_protos]\n",
    "print(get_available_devices()) \n",
    "# my output was => ['/device:CPU:0']\n",
    "# good output must be => ['/device:CPU:0', '/device:GPU:0']"
   ]
  },
  {
   "cell_type": "code",
   "execution_count": null,
   "metadata": {
    "colab": {
     "base_uri": "https://localhost:8080/"
    },
    "id": "MMDkqf-OvztD",
    "outputId": "d7b0a25a-43cd-49db-8e82-02f50897b561"
   },
   "outputs": [],
   "source": [
    "try:\n",
    "    %tensorflow_version 2.x\n",
    "except:\n",
    "    pass"
   ]
  },
  {
   "cell_type": "code",
   "execution_count": null,
   "metadata": {
    "colab": {
     "base_uri": "https://localhost:8080/"
    },
    "id": "oeLBDGI8vztE",
    "outputId": "2f6a2f22-2a2c-4d54-fa18-1a6210ead990"
   },
   "outputs": [],
   "source": [
    "import os\n",
    "import numpy as np\n",
    "import matplotlib.pyplot as plt\n",
    "# from google.colab import files\n",
    "import tensorflow as tf\n",
    "# import tensorflow_hub as hub\n",
    "import random\n",
    "import shutil\n",
    "from shutil import copyfile\n",
    "from tensorflow import keras\n",
    "from tensorflow.keras import layers\n",
    "from tensorflow.keras import Model\n",
    "from tensorflow.keras.preprocessing.image import img_to_array, load_img\n",
    "from tensorflow.keras.preprocessing.image import ImageDataGenerator\n",
    "from tensorflow.keras.optimizers import RMSprop\n",
    "from keras.applications.mobilenet_v2 import MobileNetV2\n",
    "# from efficientnet.tfkeras import EfficientNetB3\n",
    "from sklearn.metrics import classification_report, confusion_matrix\n",
    "import itertools\n",
    "from PIL import Image\n",
    "import scipy\n",
    "\n",
    "print('\\u2022 Using TensorFlow Version:', tf.__version__)\n",
    "# print('\\u2022 Using TensorFlow Hub Version: ', hub.__version__)\n",
    "print('\\u2022 GPU Device Found.' if tf.config.list_physical_devices('GPU') else '\\u2022 GPU Device Not Found. Running on CPU')"
   ]
  },
  {
   "cell_type": "markdown",
   "metadata": {
    "id": "PkJsibYVvztF"
   },
   "source": [
    "### Format the Data\n"
   ]
  },
  {
   "cell_type": "code",
   "execution_count": null,
   "metadata": {
    "colab": {
     "base_uri": "https://localhost:8080/"
    },
    "id": "PsrBW8JhvztG",
    "outputId": "6d2ac1dd-dfcf-4f41-f932-6a3d6a35e622"
   },
   "outputs": [],
   "source": [
    "# from google.colab import drive\n",
    "# import zipfile\n",
    "# drive.mount('/content/drive')"
   ]
  },
  {
   "cell_type": "code",
   "execution_count": null,
   "metadata": {
    "colab": {
     "base_uri": "https://localhost:8080/"
    },
    "id": "Uvb5OKBDvztH",
    "outputId": "947b5946-556a-412d-bd6a-b80466bf336e"
   },
   "outputs": [],
   "source": [
    "cwd = os.getcwd()\n",
    "print(cwd)"
   ]
  },
  {
   "cell_type": "code",
   "execution_count": null,
   "metadata": {
    "colab": {
     "base_uri": "https://localhost:8080/"
    },
    "id": "5pOfzvDSvztH",
    "outputId": "245e6461-43d9-45a5-9a34-5f389c4b687b"
   },
   "outputs": [],
   "source": [
    "# zip_ref = zipfile.ZipFile('/content/drive/Shareddrives/ML Capstone Project/food_datasets.zip', 'r')\n",
    "# zip_ref.extractall(f'{cwd}/')\n",
    "# zip_ref.close()\n",
    "\n",
    "# ! pip install kaggle\n",
    "# ! mkdir ~/.kaggle\n",
    "# ! cp kaggle.json ~/.kaggle/\n",
    "# ! chmod 600 ~/.kaggle/kaggle.json\n",
    "# ! kaggle datasets download -d utkarshsaxenadn/fast-food-classification-dataset\n",
    "# ! unzip fast-food-classification-dataset.zip"
   ]
  },
  {
   "cell_type": "code",
   "execution_count": null,
   "metadata": {
    "colab": {
     "base_uri": "https://localhost:8080/"
    },
    "id": "uELGVNonBf7e",
    "outputId": "c14d13e6-e3ac-4c6d-97a9-ad39329252fb"
   },
   "outputs": [],
   "source": [
    "TRAINING_DIR = f'../Dataset/food_datasets/train'\n",
    "VALIDATION_DIR = f'../Dataset/food_datasets/valid'\n",
    "TEST_DIR = f'../Dataset/food_datasets/test'"
   ]
  },
  {
   "cell_type": "code",
   "execution_count": null,
   "metadata": {
    "id": "yNHTZloJ-NqQ"
   },
   "outputs": [],
   "source": [
    "def count_images_in_directory(directory):\n",
    "  folders = os.listdir(directory)\n",
    "  folders.sort()\n",
    "  for folder in folders:\n",
    "    x = os.listdir(os.path.join(directory, folder))\n",
    "    print(f'{folder}: {len(x)} images')"
   ]
  },
  {
   "cell_type": "code",
   "execution_count": null,
   "metadata": {
    "colab": {
     "base_uri": "https://localhost:8080/"
    },
    "id": "eX9WHLwW8iIU",
    "outputId": "6c810a60-1465-4fab-d15c-c512b019184c",
    "scrolled": false
   },
   "outputs": [],
   "source": [
    "print('TRAINING:')\n",
    "count_images_in_directory(TRAINING_DIR)\n",
    "\n",
    "print('\\nVALIDATION:')\n",
    "count_images_in_directory(VALIDATION_DIR)\n",
    "\n",
    "print('\\nTEST:')\n",
    "count_images_in_directory(TEST_DIR)"
   ]
  },
  {
   "cell_type": "code",
   "execution_count": null,
   "metadata": {
    "colab": {
     "base_uri": "https://localhost:8080/",
     "height": 1000
    },
    "id": "IfXJ7Hze-U_W",
    "outputId": "325d6ee2-db6a-4263-84c2-5387c4a95737"
   },
   "outputs": [],
   "source": [
    "folders = os.listdir(TRAINING_DIR)\n",
    "folders.sort()\n",
    "for folder in folders:\n",
    "  items = os.path.join(TRAINING_DIR, folder)\n",
    "  item = os.listdir(items)\n",
    "  index = random.randint(0, len(item) - 1)   # get a random index\n",
    "  print(f'\\nSample {folder} image:')\n",
    "  print(f'{item[index]}')\n",
    "  plt.figure(figsize=(3, 3))\n",
    "  plt.imshow(load_img(f'{os.path.join(items, os.listdir(items)[index])}'))\n",
    "  plt.show()"
   ]
  },
  {
   "cell_type": "code",
   "execution_count": null,
   "metadata": {
    "id": "CHgiXoClvztI"
   },
   "outputs": [],
   "source": [
    "def train_val_generators(TRAINING_DIR, VALIDATION_DIR):\n",
    "  train_datagen = ImageDataGenerator(rescale = 1/255,\n",
    "                                     rotation_range = 40,\n",
    "                                     width_shift_range = 0.2,\n",
    "                                     height_shift_range = 0.2,\n",
    "                                     shear_range = 0.2,\n",
    "                                     zoom_range = 0.2,\n",
    "                                     horizontal_flip = True)\n",
    "  train_generator = train_datagen.flow_from_directory(directory=TRAINING_DIR,\n",
    "                                                      batch_size=32,\n",
    "                                                      class_mode='categorical',\n",
    "                                                      target_size=(224, 224))\n",
    "  \n",
    "  validation_datagen    = ImageDataGenerator(rescale = 1/255)\n",
    "  validation_generator  = validation_datagen.flow_from_directory(directory=VALIDATION_DIR,\n",
    "                                                                batch_size=32,\n",
    "                                                                class_mode='categorical',\n",
    "                                                                target_size=(224,224))\n",
    "\n",
    "  return train_generator, validation_generator"
   ]
  },
  {
   "cell_type": "code",
   "execution_count": null,
   "metadata": {
    "colab": {
     "base_uri": "https://localhost:8080/"
    },
    "id": "AJeVbG6-vztJ",
    "outputId": "8e929880-bbf1-4fd1-8258-ee87e3470d7a"
   },
   "outputs": [],
   "source": [
    "train_generator, validation_generator = train_val_generators(TRAINING_DIR, VALIDATION_DIR)"
   ]
  },
  {
   "cell_type": "markdown",
   "metadata": {
    "id": "qllCVrOUvztJ"
   },
   "source": [
    "## Defining the Transfer Learning Model"
   ]
  },
  {
   "cell_type": "code",
   "execution_count": null,
   "metadata": {
    "colab": {
     "base_uri": "https://localhost:8080/"
    },
    "id": "GgADwNK7vztJ",
    "outputId": "9fa9d563-3086-4d4d-d774-944049463d30"
   },
   "outputs": [],
   "source": [
    "def create_pretrained_model():\n",
    "  pretrained_model = MobileNetV2(include_top=False,\n",
    "                                   weights=\"imagenet\",\n",
    "                                   input_shape=(224,224,3),\n",
    "                                   classes=30)\n",
    "                                   \n",
    "  for layer in pretrained_model.layers:\n",
    "    layer.trainable = False\n",
    "  return pretrained_model"
   ]
  },
  {
   "cell_type": "code",
   "execution_count": null,
   "metadata": {},
   "outputs": [],
   "source": [
    "pretrained_model = create_pretrained_model()"
   ]
  },
  {
   "cell_type": "code",
   "execution_count": null,
   "metadata": {},
   "outputs": [],
   "source": [
    "pretrained_model.summary()"
   ]
  },
  {
   "cell_type": "code",
   "execution_count": null,
   "metadata": {
    "colab": {
     "base_uri": "https://localhost:8080/"
    },
    "id": "gTDgDu4OMBMV",
    "outputId": "cbd207a0-b702-4956-c574-d01422f8d4b1"
   },
   "outputs": [],
   "source": [
    "def output_of_last_layer(pretrained_model):\n",
    "  last_desired_layer = pretrained_model.get_layer('out_relu') #avg_pool diganti top_activation biar bisa ditambah layer CNN sama MaxPool\n",
    "  print('Last layer output shape: ', last_desired_layer.output_shape)\n",
    "  last_output = last_desired_layer.output\n",
    "  print('Last layer output: ', last_output)\n",
    "  return last_output"
   ]
  },
  {
   "cell_type": "code",
   "execution_count": null,
   "metadata": {},
   "outputs": [],
   "source": [
    "last_output = output_of_last_layer(pretrained_model)"
   ]
  },
  {
   "cell_type": "markdown",
   "metadata": {
    "id": "L7zBm1NevztK"
   },
   "source": [
    "## Compiling the Model"
   ]
  },
  {
   "cell_type": "code",
   "execution_count": null,
   "metadata": {
    "id": "fp_Et2qmMN1V"
   },
   "outputs": [],
   "source": [
    "def create_model(pretrained_model, last_output):\n",
    "    x = layers.Conv2D(512, (2,2), activation = 'relu')(last_output)\n",
    "    x = layers.Conv2D(512, (2,2), activation = 'relu')(x)\n",
    "    x = layers.Conv2D(256, (2,2), activation = 'relu')(x)\n",
    "    x = layers.Conv2D(256, (2,2), activation = 'relu')(x)\n",
    "    x = layers.MaxPooling2D((2, 2))(x)\n",
    "    x = layers.Dropout(0.3)(x)\n",
    "    x = layers.Flatten()(x)\n",
    "    x = layers.Dense(256, activation = 'relu')(x)\n",
    "    x = layers.Dense(256, activation = 'relu')(x)\n",
    "    x = layers.Dense(128, activation = 'relu')(x)\n",
    "    x = layers.Dense(train_generator.num_classes, activation = 'softmax')(x)\n",
    "\n",
    "    model = Model(inputs=pretrained_model.input, outputs=x)\n",
    "\n",
    "    from tensorflow.keras.optimizers import Adam\n",
    "    model.compile(optimizer=Adam(learning_rate=0.0001),\n",
    "                  loss='categorical_crossentropy',\n",
    "                  metrics=['accuracy']) \n",
    "    return model"
   ]
  },
  {
   "cell_type": "code",
   "execution_count": null,
   "metadata": {
    "colab": {
     "base_uri": "https://localhost:8080/"
    },
    "id": "nbHRxg0TvztK",
    "outputId": "fa26d136-7154-438c-d35d-350bb2d73064"
   },
   "outputs": [],
   "source": [
    "model = create_model(pretrained_model, last_output)\n",
    "\n",
    "model.summary()"
   ]
  },
  {
   "cell_type": "markdown",
   "metadata": {
    "id": "46aXuu0yvztK"
   },
   "source": [
    "## Training the Model"
   ]
  },
  {
   "cell_type": "code",
   "execution_count": null,
   "metadata": {
    "colab": {
     "base_uri": "https://localhost:8080/"
    },
    "id": "nNO8ZwXevztK",
    "outputId": "dd151546-2c0c-4e0a-ec43-d5e80a4f8eb8",
    "scrolled": false
   },
   "outputs": [],
   "source": [
    "history = model.fit(train_generator,\n",
    "                    epochs=20,\n",
    "                    verbose=1,\n",
    "                    validation_data=validation_generator)"
   ]
  },
  {
   "cell_type": "code",
   "execution_count": null,
   "metadata": {
    "colab": {
     "base_uri": "https://localhost:8080/",
     "height": 882
    },
    "id": "I9aU0tykvztL",
    "outputId": "d3603be4-7b98-45f0-860d-5f6b4f484624"
   },
   "outputs": [],
   "source": [
    "acc=history.history['accuracy']\n",
    "val_acc=history.history['val_accuracy']\n",
    "loss=history.history['loss']\n",
    "val_loss=history.history['val_loss']\n",
    "epochs=range(len(acc)) \n",
    "\n",
    "# Plot training and validation accuracy per epoch\n",
    "plt.plot(epochs, acc, 'r', 'Training Accuracy')\n",
    "plt.plot(epochs, val_acc, 'b', 'Validation Accuracy')\n",
    "plt.title('Training and validation accuracy')\n",
    "plt.show()\n",
    "print('')\n",
    "\n",
    "# Plot training and validation loss per epoch\n",
    "plt.plot(epochs, loss, 'r', 'Training Loss')\n",
    "plt.plot(epochs, val_loss, 'b', 'Validation Loss')\n",
    "plt.show()"
   ]
  },
  {
   "cell_type": "code",
   "execution_count": null,
   "metadata": {
    "colab": {
     "base_uri": "https://localhost:8080/"
    },
    "id": "D06H3LLFzqUf",
    "outputId": "c0e78d53-eabb-4428-982e-cf3120bafa99"
   },
   "outputs": [],
   "source": [
    "# calculating the recall, precision and f1-score\n",
    "test_datagen    = ImageDataGenerator(rescale = 1/255)\n",
    "test_generator = test_datagen.flow_from_directory(\n",
    "        TEST_DIR,  # This is the source directory for training images\n",
    "        target_size=(224, 224),  # All images will be resized to 150x150\n",
    "        batch_size=16,\n",
    "        shuffle=False,\n",
    "        class_mode='categorical')\n",
    "\n",
    "test_score = model.evaluate(test_generator)\n",
    "print('[INFO] accuracy: {:.2f}%'.format(test_score[1] * 100))\n",
    "print('[INFO] Loss: ',test_score[0])"
   ]
  },
  {
   "cell_type": "code",
   "execution_count": null,
   "metadata": {
    "colab": {
     "base_uri": "https://localhost:8080/",
     "height": 1000
    },
    "id": "9jbDk-mfz4hn",
    "outputId": "55d9c175-141d-44f6-b9e6-ba6d74072a91"
   },
   "outputs": [],
   "source": [
    "\n",
    "# Plot the confusion matrix. Set Normalize = True/False\n",
    "def plot_confusion_matrix(cm, classes, normalize=True, title='Confusion matrix', cmap=plt.cm.Blues):\n",
    "    '''\n",
    "    This function prints and plots the confusion matrix.\n",
    "    Normalization can be applied by setting `normalize=True`.\n",
    "    '''\n",
    "    plt.figure(figsize=(15, 15))\n",
    "    plt.imshow(cm, interpolation='nearest', cmap=cmap)\n",
    "    plt.title(title)\n",
    "    plt.colorbar()\n",
    "    tick_marks = np.arange(len(classes))\n",
    "    plt.xticks(tick_marks, classes, rotation=45)\n",
    "    plt.yticks(tick_marks, classes)\n",
    "    if normalize:\n",
    "        cm = cm.astype('float') / cm.sum(axis=1)[:, np.newaxis]\n",
    "        cm = np.around(cm, decimals=2)\n",
    "        cm[np.isnan(cm)] = 0.0\n",
    "        print('Normalized confusion matrix')\n",
    "    else:\n",
    "        print('Confusion matrix, without normalization')\n",
    "    thresh = cm.max() / 2.\n",
    "    for i, j in itertools.product(range(cm.shape[0]), range(cm.shape[1])):\n",
    "        plt.text(j, i, cm[i, j], horizontalalignment='center', color='white' if cm[i, j] > thresh else 'black')\n",
    "    plt.tight_layout()\n",
    "    plt.ylabel('True label')\n",
    "    plt.xlabel('Predicted label')\n",
    "\n",
    "# Print the Target names\n",
    "target_names = []\n",
    "for key in test_generator.class_indices:\n",
    "    target_names.append(key)\n",
    "\n",
    "# Confusion Matrix\n",
    "Y_pred = model.predict(test_generator)\n",
    "y_pred = np.argmax(Y_pred, axis=1)\n",
    "print('Confusion Matrix')\n",
    "cm = confusion_matrix(test_generator.classes, y_pred)\n",
    "print(confusion_matrix(test_generator.classes, y_pred))\n",
    "plot_confusion_matrix(cm, target_names, title='Confusion Matrix')\n",
    "\n",
    "# Print Classification Report\n",
    "print('Classification Report')\n",
    "print(classification_report(test_generator.classes, y_pred, target_names=target_names))"
   ]
  },
  {
   "cell_type": "markdown",
   "metadata": {
    "id": "LJTHLERZvztL"
   },
   "source": [
    "## Export the Model"
   ]
  },
  {
   "cell_type": "code",
   "execution_count": null,
   "metadata": {
    "id": "H2XdZ_ZDvztL"
   },
   "outputs": [],
   "source": [
    "FC_SAVED_MODEL = 'fc_saved_model'"
   ]
  },
  {
   "cell_type": "markdown",
   "metadata": {
    "id": "uIoM_2SHvztL"
   },
   "source": [
    "Export the SavedModel"
   ]
  },
  {
   "cell_type": "code",
   "execution_count": null,
   "metadata": {
    "colab": {
     "base_uri": "https://localhost:8080/"
    },
    "id": "hN5Gh7zLvztM",
    "outputId": "727b9006-0766-4ffb-8dcf-8e319fe256b9"
   },
   "outputs": [],
   "source": [
    "model.save(FC_SAVED_MODEL)"
   ]
  },
  {
   "cell_type": "code",
   "execution_count": null,
   "metadata": {
    "colab": {
     "base_uri": "https://localhost:8080/"
    },
    "id": "LjEn_uYUvztM",
    "outputId": "fab853eb-9f6c-414f-81ee-09e2521cbc81"
   },
   "outputs": [],
   "source": [
    "# %%bash -s $FC_SAVED_MODEL\n",
    "# saved_model_cli show --dir $1 --tag_set serve --signature_def serving_default"
   ]
  },
  {
   "cell_type": "code",
   "execution_count": null,
   "metadata": {
    "id": "50SAPcTKvztM"
   },
   "outputs": [],
   "source": [
    "loaded = tf.saved_model.load(FC_SAVED_MODEL)"
   ]
  },
  {
   "cell_type": "code",
   "execution_count": null,
   "metadata": {
    "colab": {
     "base_uri": "https://localhost:8080/"
    },
    "id": "ECjeocHgvztM",
    "outputId": "6ce3bc90-3484-47ed-c031-c75ffe160726"
   },
   "outputs": [],
   "source": [
    "print(list(loaded.signatures.keys()))\n",
    "infer = loaded.signatures['serving_default']\n",
    "print(infer.structured_input_signature)\n",
    "print(infer.structured_outputs)"
   ]
  },
  {
   "cell_type": "markdown",
   "metadata": {
    "id": "yykQxufxvztM"
   },
   "source": [
    "## Convert Using TFLite's Converter"
   ]
  },
  {
   "cell_type": "code",
   "execution_count": null,
   "metadata": {
    "id": "EfZjmetxvztM"
   },
   "outputs": [],
   "source": [
    "converter = tf.lite.TFLiteConverter.from_saved_model(FC_SAVED_MODEL)\n",
    "converter.optimizations = [tf.lite.Optimize.DEFAULT]\n",
    "tflite_model = converter.convert()"
   ]
  },
  {
   "cell_type": "code",
   "execution_count": null,
   "metadata": {
    "id": "qyozO3jXvztN"
   },
   "outputs": [],
   "source": [
    "tflite_model_file = 'fc_model.tflite'\n",
    "\n",
    "with open(tflite_model_file, 'wb') as f:\n",
    "    f.write(tflite_model)"
   ]
  },
  {
   "cell_type": "markdown",
   "metadata": {
    "id": "Pj5KIcbTvztV"
   },
   "source": [
    "Create a file to save the labels."
   ]
  },
  {
   "cell_type": "code",
   "execution_count": null,
   "metadata": {
    "colab": {
     "base_uri": "https://localhost:8080/"
    },
    "id": "Vz7ETcLeJCbO",
    "outputId": "b6911c27-6d24-4c04-e58f-212314bcd9f8"
   },
   "outputs": [],
   "source": [
    "class_names = folders #disesuaikan\n",
    "print(class_names)"
   ]
  },
  {
   "cell_type": "code",
   "execution_count": null,
   "metadata": {
    "id": "KkjoSvmyvztV"
   },
   "outputs": [],
   "source": [
    "with open('labels.txt', 'w') as f:\n",
    "    f.write('\\n'.join(class_names))"
   ]
  }
 ],
 "metadata": {
  "colab": {
   "provenance": []
  },
  "kernelspec": {
   "display_name": "gpu",
   "language": "python",
   "name": "gpu"
  },
  "language_info": {
   "codemirror_mode": {
    "name": "ipython",
    "version": 3
   },
   "file_extension": ".py",
   "mimetype": "text/x-python",
   "name": "python",
   "nbconvert_exporter": "python",
   "pygments_lexer": "ipython3",
   "version": "3.9.13"
  }
 },
 "nbformat": 4,
 "nbformat_minor": 1
}
